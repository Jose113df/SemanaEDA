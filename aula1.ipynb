{
 "cells": [
  {
   "cell_type": "markdown",
   "metadata": {},
   "source": [
    "# SEMANA EDA (Exploratory Data Analysis)\n"
   ]
  },
  {
   "cell_type": "markdown",
   "metadata": {},
   "source": [
    "# Análise exploratiória de dados"
   ]
  },
  {
   "cell_type": "markdown",
   "metadata": {},
   "source": [
    "## Problema\n",
    "- Uma escola necessita trabalhar com filmes em seu planejamento pedagógico. \n",
    "- Precisa visualizar as notas de diversos filmes em suas diversas categorias.\n",
    "- Os filmes devem atravessar gerações. A escola trabalha desde a creche até ao nível superior."
   ]
  },
  {
   "cell_type": "markdown",
   "metadata": {},
   "source": [
    "## Ambientação"
   ]
  },
  {
   "cell_type": "markdown",
   "metadata": {},
   "source": [
    "- Usaremos a linguagem Python (multi,tip.din,ident,bibli,poo)"
   ]
  },
  {
   "cell_type": "code",
   "execution_count": null,
   "metadata": {
    "vscode": {
     "languageId": "plaintext"
    }
   },
   "outputs": [],
   "source": [
    "import pandas as pd\n",
    "\n",
    "mensagem = \"Hello semana EDA!\"\n",
    "print(f'{mensagem}')\n",
    "msg_input = input(f\"Digite a palavra da semana: \")\n",
    "print(f\"\\nA palavra da semana é: {msg_input}!\")             "
   ]
  },
  {
   "cell_type": "markdown",
   "metadata": {},
   "source": [
    "## Competências\n",
    "- Importar pandas\n",
    "- Ler dados csv\n",
    "- Organizar o VS CODE\n",
    "- Renomear colunas\n",
    "- Contar os dados\n",
    "- Melhorar a visualização das informações\n",
    "- Criar gráficos pandas(plot), Matplotlib, Seaborn"
   ]
  },
  {
   "cell_type": "markdown",
   "metadata": {},
   "source": [
    "## Ferramentas e Recursos\n",
    "- Jupyter (Visual Code, Anaconda, Jupyter, Google Colab, Azure e AWS)\n",
    "- Kaggle (Risco de Crédito): IA ML Superv. Regressão\n",
    "- TreendView\n",
    "- MovieLens (opção de 100 mil)\n",
    "- Python - Lambda (Pardigima Funcional)\n",
    "- Bibliotecas (NumPy,Pandas, Matplotlib e SeaBorn)\n",
    "- Gráficos (barras,pizzas,dispersão,histograma,boxplot etc)\n",
    "- Youtube (população,atmosfera,frequencia,mediana,quartis)\n",
    "- Estatisticas descritiva (Frequencias e medidas)"
   ]
  },
  {
   "cell_type": "markdown",
   "metadata": {},
   "source": [
    "## Python"
   ]
  }
 ],
 "metadata": {
  "language_info": {
   "name": "python"
  }
 },
 "nbformat": 4,
 "nbformat_minor": 2
}
